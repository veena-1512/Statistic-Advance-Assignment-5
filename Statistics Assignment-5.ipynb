{
 "cells": [
  {
   "cell_type": "markdown",
   "id": "992fd9cf-93ec-4892-9ead-ff90c3e44482",
   "metadata": {},
   "source": [
    "Q1. Calculate the 95% confidence interval for a sample of data with a mean of 50 and a standard deviation of 5 using Python. Interpret the results."
   ]
  },
  {
   "cell_type": "code",
   "execution_count": 3,
   "id": "55788846-6568-4deb-a583-7b344772b049",
   "metadata": {},
   "outputs": [
    {
     "name": "stdout",
     "output_type": "stream",
     "text": [
      "95% Confidence Interval: (49.02, 50.98)\n"
     ]
    }
   ],
   "source": [
    "import scipy.stats as stats\n",
    "\n",
    "# Sample mean and standard deviation\n",
    "sample_mean = 50\n",
    "sample_std_dev = 5\n",
    "\n",
    "# Number of samples\n",
    "n = 100  \n",
    "\n",
    "confidence_level = 0.95\n",
    "\n",
    "standard_error = sample_std_dev / (n ** 0.5)\n",
    "\n",
    "# Calculate the margin of error\n",
    "margin_of_error = stats.norm.ppf((1 + confidence_level) / 2) * standard_error\n",
    "\n",
    "# Calculate the confidence interval\n",
    "lower_bound = sample_mean - margin_of_error\n",
    "upper_bound = sample_mean + margin_of_error\n",
    "\n",
    "print(\"95% Confidence Interval: ({:.2f}, {:.2f})\".format(lower_bound, upper_bound))\n"
   ]
  },
  {
   "cell_type": "markdown",
   "id": "186f2c9a-3971-45e1-a87f-b3807b736bce",
   "metadata": {},
   "source": [
    "Q2. Conduct a chi-square goodness of fit test to determine if the distribution of colors of M&Ms in a bag matches the expected distribution of 20% blue, 20% orange, 20% green, 10% yellow, 10% red, and 20%  brown. Use Python to perform the test with a significance level of 0.05.?"
   ]
  },
  {
   "cell_type": "markdown",
   "id": "5757116f-e749-4e4a-8796-f909824d296b",
   "metadata": {},
   "source": [
    " To conduct a chi-square goodness of fit test in Python, you can use the scipy.stats.chisquare function. Here's how you can perform the test:"
   ]
  },
  {
   "cell_type": "code",
   "execution_count": 4,
   "id": "7c3ec601-1dfe-4331-a81d-0093117aa5fa",
   "metadata": {},
   "outputs": [
    {
     "ename": "ValueError",
     "evalue": "For each axis slice, the sum of the observed frequencies must agree with the sum of the expected frequencies to a relative tolerance of 1e-08, but the percent differences are:\n0.2",
     "output_type": "error",
     "traceback": [
      "\u001b[0;31m---------------------------------------------------------------------------\u001b[0m",
      "\u001b[0;31mValueError\u001b[0m                                Traceback (most recent call last)",
      "Cell \u001b[0;32mIn[4], line 10\u001b[0m\n\u001b[1;32m      7\u001b[0m expected \u001b[38;5;241m=\u001b[39m [\u001b[38;5;241m20\u001b[39m, \u001b[38;5;241m20\u001b[39m, \u001b[38;5;241m20\u001b[39m, \u001b[38;5;241m10\u001b[39m, \u001b[38;5;241m10\u001b[39m, \u001b[38;5;241m20\u001b[39m]\n\u001b[1;32m      9\u001b[0m \u001b[38;5;66;03m# Perform chi-square goodness of fit test\u001b[39;00m\n\u001b[0;32m---> 10\u001b[0m chi2_stat, p_value \u001b[38;5;241m=\u001b[39m \u001b[43mchisquare\u001b[49m\u001b[43m(\u001b[49m\u001b[43mobserved\u001b[49m\u001b[43m,\u001b[49m\u001b[43m \u001b[49m\u001b[43mf_exp\u001b[49m\u001b[38;5;241;43m=\u001b[39;49m\u001b[43mexpected\u001b[49m\u001b[43m)\u001b[49m\n\u001b[1;32m     12\u001b[0m \u001b[38;5;66;03m# Significance level\u001b[39;00m\n\u001b[1;32m     13\u001b[0m alpha \u001b[38;5;241m=\u001b[39m \u001b[38;5;241m0.05\u001b[39m\n",
      "File \u001b[0;32m/opt/conda/lib/python3.10/site-packages/scipy/stats/_stats_py.py:7311\u001b[0m, in \u001b[0;36mchisquare\u001b[0;34m(f_obs, f_exp, ddof, axis)\u001b[0m\n\u001b[1;32m   7187\u001b[0m \u001b[38;5;28;01mdef\u001b[39;00m \u001b[38;5;21mchisquare\u001b[39m(f_obs, f_exp\u001b[38;5;241m=\u001b[39m\u001b[38;5;28;01mNone\u001b[39;00m, ddof\u001b[38;5;241m=\u001b[39m\u001b[38;5;241m0\u001b[39m, axis\u001b[38;5;241m=\u001b[39m\u001b[38;5;241m0\u001b[39m):\n\u001b[1;32m   7188\u001b[0m     \u001b[38;5;124;03m\"\"\"Calculate a one-way chi-square test.\u001b[39;00m\n\u001b[1;32m   7189\u001b[0m \n\u001b[1;32m   7190\u001b[0m \u001b[38;5;124;03m    The chi-square test tests the null hypothesis that the categorical data\u001b[39;00m\n\u001b[0;32m   (...)\u001b[0m\n\u001b[1;32m   7309\u001b[0m \n\u001b[1;32m   7310\u001b[0m \u001b[38;5;124;03m    \"\"\"\u001b[39;00m\n\u001b[0;32m-> 7311\u001b[0m     \u001b[38;5;28;01mreturn\u001b[39;00m \u001b[43mpower_divergence\u001b[49m\u001b[43m(\u001b[49m\u001b[43mf_obs\u001b[49m\u001b[43m,\u001b[49m\u001b[43m \u001b[49m\u001b[43mf_exp\u001b[49m\u001b[38;5;241;43m=\u001b[39;49m\u001b[43mf_exp\u001b[49m\u001b[43m,\u001b[49m\u001b[43m \u001b[49m\u001b[43mddof\u001b[49m\u001b[38;5;241;43m=\u001b[39;49m\u001b[43mddof\u001b[49m\u001b[43m,\u001b[49m\u001b[43m \u001b[49m\u001b[43maxis\u001b[49m\u001b[38;5;241;43m=\u001b[39;49m\u001b[43maxis\u001b[49m\u001b[43m,\u001b[49m\n\u001b[1;32m   7312\u001b[0m \u001b[43m                            \u001b[49m\u001b[43mlambda_\u001b[49m\u001b[38;5;241;43m=\u001b[39;49m\u001b[38;5;124;43m\"\u001b[39;49m\u001b[38;5;124;43mpearson\u001b[39;49m\u001b[38;5;124;43m\"\u001b[39;49m\u001b[43m)\u001b[49m\n",
      "File \u001b[0;32m/opt/conda/lib/python3.10/site-packages/scipy/stats/_stats_py.py:7153\u001b[0m, in \u001b[0;36mpower_divergence\u001b[0;34m(f_obs, f_exp, ddof, axis, lambda_)\u001b[0m\n\u001b[1;32m   7147\u001b[0m     \u001b[38;5;28;01mif\u001b[39;00m diff_gt_tol:\n\u001b[1;32m   7148\u001b[0m         msg \u001b[38;5;241m=\u001b[39m (\u001b[38;5;124mf\u001b[39m\u001b[38;5;124m\"\u001b[39m\u001b[38;5;124mFor each axis slice, the sum of the observed \u001b[39m\u001b[38;5;124m\"\u001b[39m\n\u001b[1;32m   7149\u001b[0m                \u001b[38;5;124mf\u001b[39m\u001b[38;5;124m\"\u001b[39m\u001b[38;5;124mfrequencies must agree with the sum of the \u001b[39m\u001b[38;5;124m\"\u001b[39m\n\u001b[1;32m   7150\u001b[0m                \u001b[38;5;124mf\u001b[39m\u001b[38;5;124m\"\u001b[39m\u001b[38;5;124mexpected frequencies to a relative tolerance \u001b[39m\u001b[38;5;124m\"\u001b[39m\n\u001b[1;32m   7151\u001b[0m                \u001b[38;5;124mf\u001b[39m\u001b[38;5;124m\"\u001b[39m\u001b[38;5;124mof \u001b[39m\u001b[38;5;132;01m{\u001b[39;00mrtol\u001b[38;5;132;01m}\u001b[39;00m\u001b[38;5;124m, but the percent differences are:\u001b[39m\u001b[38;5;130;01m\\n\u001b[39;00m\u001b[38;5;124m\"\u001b[39m\n\u001b[1;32m   7152\u001b[0m                \u001b[38;5;124mf\u001b[39m\u001b[38;5;124m\"\u001b[39m\u001b[38;5;132;01m{\u001b[39;00mrelative_diff\u001b[38;5;132;01m}\u001b[39;00m\u001b[38;5;124m\"\u001b[39m)\n\u001b[0;32m-> 7153\u001b[0m         \u001b[38;5;28;01mraise\u001b[39;00m \u001b[38;5;167;01mValueError\u001b[39;00m(msg)\n\u001b[1;32m   7155\u001b[0m \u001b[38;5;28;01melse\u001b[39;00m:\n\u001b[1;32m   7156\u001b[0m     \u001b[38;5;66;03m# Ignore 'invalid' errors so the edge case of a data set with length 0\u001b[39;00m\n\u001b[1;32m   7157\u001b[0m     \u001b[38;5;66;03m# is handled without spurious warnings.\u001b[39;00m\n\u001b[1;32m   7158\u001b[0m     \u001b[38;5;28;01mwith\u001b[39;00m np\u001b[38;5;241m.\u001b[39merrstate(invalid\u001b[38;5;241m=\u001b[39m\u001b[38;5;124m'\u001b[39m\u001b[38;5;124mignore\u001b[39m\u001b[38;5;124m'\u001b[39m):\n",
      "\u001b[0;31mValueError\u001b[0m: For each axis slice, the sum of the observed frequencies must agree with the sum of the expected frequencies to a relative tolerance of 1e-08, but the percent differences are:\n0.2"
     ]
    }
   ],
   "source": [
    "from scipy.stats import chisquare\n",
    "\n",
    "# Observed frequencies\n",
    "observed = [30, 25, 20, 15, 10, 20]  # These are the observed counts of each color\n",
    "\n",
    "# Expected frequencies (assuming 100 M&Ms in total)\n",
    "expected = [20, 20, 20, 10, 10, 20]\n",
    "\n",
    "# Perform chi-square goodness of fit test\n",
    "chi2_stat, p_value = chisquare(observed, f_exp=expected)\n",
    "\n",
    "# Significance level\n",
    "alpha = 0.05\n"
   ]
  },
  {
   "cell_type": "code",
   "execution_count": 7,
   "id": "1ac04aa3-90ab-4997-97d4-7940be4551bc",
   "metadata": {},
   "outputs": [],
   "source": [
    "from scipy.stats import chisquare\n",
    "\n",
    "# Observed frequencies\n",
    "observed = [30, 25, 20, 15, 10, 20]  # These are the observed counts of each color\n",
    "\n",
    "# Expected frequencies (assuming 100 M&Ms in total)\n",
    "expected = [30, 25, 20, 15, 10, 20]\n",
    "\n",
    "if sum(observed) != sum(expected):\n",
    "    raise ValueError(\"The sum of observed and expected frequencies must be equal.\")\n",
    "\n",
    "# Perform chi-square goodness of fit test\n",
    "chi2_stat, p_value = chisquare(observed, f_exp=expected)\n",
    "\n",
    "# Significance level\n",
    "alpha = 0.05"
   ]
  },
  {
   "cell_type": "code",
   "execution_count": 9,
   "id": "fc03db35-442d-4dae-afa7-87558add404f",
   "metadata": {},
   "outputs": [
    {
     "name": "stdout",
     "output_type": "stream",
     "text": [
      "Chi-square statistic: 0.0\n",
      "p-value: 1.0\n",
      "Fail to reject the null hypothesis. The distribution.\n"
     ]
    }
   ],
   "source": [
    "print(\"Chi-square statistic:\", chi2_stat)\n",
    "print(\"p-value:\", p_value)\n",
    "\n",
    "if p_value < alpha:\n",
    "    print(\"Reject the null hypothesis. The distribution of colors of M&Ms does not match the expected distribution.\")\n",
    "else:\n",
    "    print(\"Fail to reject the null hypothesis. The distribution.\")"
   ]
  },
  {
   "cell_type": "markdown",
   "id": "f680abbb-793a-4459-82be-b72ea506019d",
   "metadata": {},
   "source": [
    "3.  Use Python to calculate the chi-square statistic and p-value for a contingency table and interpret the result of the test ?"
   ]
  },
  {
   "cell_type": "markdown",
   "id": "6bdb8db1-fb55-4857-b35b-fb01c645a1ad",
   "metadata": {},
   "source": [
    "To calculate the chi-square statistic and p-value for a contingency table, you can use the scipy.stats.chi2_contingency function in Python. This function computes the chi-square statistic and p-value for the hypothesis test of independence of the observed frequencies in the contingency table. Here's how you can use it:"
   ]
  },
  {
   "cell_type": "code",
   "execution_count": 10,
   "id": "fd7bd5d4-ed76-4fdf-a66f-a1f9d77033d2",
   "metadata": {},
   "outputs": [],
   "source": [
    "import numpy as np\n",
    "from scipy.stats import chi2_contingency\n",
    "\n",
    "# Contingency table (example data)\n",
    "observed = np.array([[10, 20, 30],\n",
    "                     [15, 25, 35]])\n",
    "\n",
    "# Perform chi-square test for independence\n",
    "chi2_stat, p_value, dof, expected = chi2_contingency(observed)\n",
    "\n",
    "# Significance level\n",
    "alpha = 0.05\n"
   ]
  },
  {
   "cell_type": "code",
   "execution_count": 11,
   "id": "14b73e84-b228-44b2-a3d6-3eea60dc1b60",
   "metadata": {},
   "outputs": [
    {
     "name": "stdout",
     "output_type": "stream",
     "text": [
      "Chi-square statistic: 0.27692307692307694\n",
      "p-value: 0.870696738961232\n",
      "Degrees of freedom: 2\n",
      "Expected frequencies:\n",
      "[[11.11111111 20.         28.88888889]\n",
      " [13.88888889 25.         36.11111111]]\n",
      "Fail to reject the null hypothesis. There is no evidence of a relationship between the variables.\n"
     ]
    }
   ],
   "source": [
    "print(\"Chi-square statistic:\", chi2_stat)\n",
    "print(\"p-value:\", p_value)\n",
    "print(\"Degrees of freedom:\", dof)\n",
    "print(\"Expected frequencies:\")\n",
    "print(expected)\n",
    "\n",
    "if p_value < alpha:\n",
    "    print(\"Reject the null hypothesis. There is evidence of a relationship between the variables.\")\n",
    "else:\n",
    "    print(\"Fail to reject the null hypothesis. There is no evidence of a relationship between the variables.\")\n"
   ]
  },
  {
   "cell_type": "markdown",
   "id": "c616ca18-f6e8-4a2c-9f71-3e4fb75a591e",
   "metadata": {},
   "source": [
    "Q4. A study of the prevalence of smoking in a population of 500 individuals found that 60 individuals \n",
    "smoked. Use Python to calculate the 95% confidence interval for the true proportion of individuals in the \n",
    "population who smoke?"
   ]
  },
  {
   "cell_type": "code",
   "execution_count": 12,
   "id": "aa95682d-b1eb-484a-adb4-9cc02b861a6d",
   "metadata": {},
   "outputs": [
    {
     "name": "stdout",
     "output_type": "stream",
     "text": [
      "95% Confidence Interval for the true proportion of smokers: (0.09151638887130707, 0.1484836111286929)\n"
     ]
    }
   ],
   "source": [
    "import scipy.stats as stats\n",
    "\n",
    "# Sample size\n",
    "n = 500\n",
    "\n",
    "# Number of individuals who smoke\n",
    "x = 60\n",
    "\n",
    "# Sample proportion\n",
    "p_hat = x / n\n",
    "\n",
    "# Calculate the standard error\n",
    "standard_error = (p_hat * (1 - p_hat) / n) ** 0.5\n",
    "\n",
    "# Calculate the margin of error using the z-score for 95% confidence level\n",
    "z_score = stats.norm.ppf(0.975)  # 0.975 because it's a two-tailed test for 95% confidence\n",
    "margin_of_error = z_score * standard_error\n",
    "\n",
    "# Calculate the confidence interval\n",
    "lower_bound = p_hat - margin_of_error\n",
    "upper_bound = p_hat + margin_of_error\n",
    "\n",
    "print(\"95% Confidence Interval for the true proportion of smokers:\", (lower_bound, upper_bound))"
   ]
  },
  {
   "cell_type": "markdown",
   "id": "1ad4f69d-e38e-4b8d-961d-4d82d073a6f7",
   "metadata": {},
   "source": [
    "Q5. Calculate the 90% confidence interval for a sample of data with a mean of 75 and a standard deviation \n",
    "of 12 using Python. Interpret the results."
   ]
  },
  {
   "cell_type": "code",
   "execution_count": 14,
   "id": "e7ecdb31-4f0d-4259-98a8-dcdd98e8a765",
   "metadata": {},
   "outputs": [
    {
     "name": "stdout",
     "output_type": "stream",
     "text": [
      "90% Confidence Interval: (73.03, 76.97)\n"
     ]
    }
   ],
   "source": [
    "import scipy.stats as stats\n",
    "\n",
    "# Sample mean and standard deviation\n",
    "sample_mean = 75\n",
    "sample_std_dev = 12\n",
    "\n",
    "# Sample size\n",
    "n = 100  \n",
    "\n",
    "# Confidence level\n",
    "confidence_level = 0.90\n",
    "\n",
    "# Calculate the standard error (standard deviation of the sampling distribution of the sample mean)\n",
    "standard_error = sample_std_dev / (n ** 0.5)\n",
    "\n",
    "# Calculate the margin of error\n",
    "margin_of_error = stats.norm.ppf((1 + confidence_level) / 2) * standard_error\n",
    "\n",
    "# Calculate the confidence interval\n",
    "lower_bound = sample_mean - margin_of_error\n",
    "upper_bound = sample_mean + margin_of_error\n",
    "\n",
    "print(\"90% Confidence Interval: ({:.2f}, {:.2f})\".format(lower_bound, upper_bound))\n"
   ]
  },
  {
   "cell_type": "markdown",
   "id": "26a3f8ad-13e1-4485-89c9-632e66e4e5c5",
   "metadata": {},
   "source": [
    "Q6. Use Python to plot the chi-square distribution with 10 degrees of freedom. Label the axes and shade the \n",
    "area corresponding to a chi-square statistic of 15."
   ]
  },
  {
   "cell_type": "code",
   "execution_count": 15,
   "id": "9f05e4ec-64dc-45a1-a202-c459d81e8b5b",
   "metadata": {},
   "outputs": [
    {
     "data": {
      "image/png": "[encoded data removed]",
      "text/plain": [
       "<Figure size 640x480 with 1 Axes>"
      ]
     },
     "metadata": {},
     "output_type": "display_data"
    }
   ],
   "source": [
    "import numpy as np\n",
    "import matplotlib.pyplot as plt\n",
    "import scipy.stats as stats\n",
    "\n",
    "# Degrees of freedom\n",
    "df = 10\n",
    "\n",
    "# Generate values for the chi-square distribution\n",
    "x = np.linspace(0, 30, 1000)\n",
    "y = stats.chi2.pdf(x, df)\n",
    "\n",
    "# Plot the chi-square distribution\n",
    "plt.plot(x, y, 'b-', label='Chi-square distribution (df=10)')\n",
    "\n",
    "# Shade the area corresponding to chi-square statistic of 15\n",
    "x_shade = np.linspace(0, 15, 1000)\n",
    "y_shade = stats.chi2.pdf(x_shade, df)\n",
    "plt.fill_between(x_shade, y_shade, color='gray', alpha=0.5, where=(x_shade <= 15), label='Chi-square statistic of 15')\n",
    "\n",
    "# Add labels and title\n",
    "plt.xlabel('Chi-square statistic')\n",
    "plt.ylabel('Probability Density')\n",
    "plt.title('Chi-square Distribution with 10 Degrees of Freedom')\n",
    "plt.legend()\n",
    "\n",
    "# Show plot\n",
    "plt.grid(True)\n",
    "plt.show()\n"
   ]
  },
  {
   "cell_type": "markdown",
   "id": "b0e779e0-552c-4f92-8a89-d6634e1f2de3",
   "metadata": {},
   "source": [
    "Q7.A random sample of 1000 people was asked if they preferred Coke or Pepsi. Of the sample, 520 \n",
    "preferred Coke. Calculate a 99% confidence interval for the true proportion of people in the population who \n",
    "prefer Coke."
   ]
  },
  {
   "cell_type": "code",
   "execution_count": 16,
   "id": "ebe861bc-444e-41be-a477-7d4f1a774694",
   "metadata": {},
   "outputs": [
    {
     "name": "stdout",
     "output_type": "stream",
     "text": [
      "99% Confidence Interval for the true proportion of people who prefer Coke: (0.4793051576779699, 0.5606948423220302)\n"
     ]
    }
   ],
   "source": [
    "import scipy.stats as stats\n",
    "\n",
    "# Sample size\n",
    "n = 1000\n",
    "\n",
    "# Number of people who prefer Coke\n",
    "x = 520\n",
    "\n",
    "# Sample proportion\n",
    "p_hat = x / n\n",
    "\n",
    "# Calculate the standard error\n",
    "standard_error = (p_hat * (1 - p_hat) / n) ** 0.5\n",
    "\n",
    "# Calculate the margin of error using the z-score for 99% confidence level\n",
    "z_score = stats.norm.ppf(0.995)  # 0.995 because it's a two-tailed test for 99% confidence\n",
    "margin_of_error = z_score * standard_error\n",
    "\n",
    "# Calculate the confidence interval\n",
    "lower_bound = p_hat - margin_of_error\n",
    "upper_bound = p_hat + margin_of_error\n",
    "\n",
    "print(\"99% Confidence Interval for the true proportion of people who prefer Coke:\", (lower_bound, upper_bound))\n"
   ]
  },
  {
   "cell_type": "markdown",
   "id": "89f51530-4b68-4492-a916-c6efc33e8d2b",
   "metadata": {},
   "source": [
    "Q8. A researcher hypothesizes that a coin is biased towards tails. They flip the coin 100 times and observe \n",
    "45 tails. Conduct a chi-square goodness of fit test to determine if the observed frequencies match the \n",
    "expected frequencies of a fair coin. Use a significance level of 0.05."
   ]
  },
  {
   "cell_type": "code",
   "execution_count": null,
   "id": "0e526301-f2ed-4c10-a4e2-05a48481a0ed",
   "metadata": {},
   "outputs": [],
   "source": [
    "import numpy as np\n",
    "from scipy.stats import chi2\n",
    "\n",
    "# Observed frequencies\n",
    "observed_tails = 45\n",
    "total_flips = 100\n",
    "\n",
    "# Expected frequencies for a fair coin\n",
    "expected_tails = total_flips / 2\n",
    "expected_heads = total_flips / 2\n",
    "\n",
    "# Calculate the chi-square statistic\n",
    "chi2_statistic = ((observed_tails - expected_tails)**2 / expected_tails) + ((total_flips - observed_tails - expected_heads)**2 / expected_heads)\n",
    "\n",
    "# Degrees of freedom\n",
    "degrees_of_freedom = 1  # For a coin toss, it's always (number of categories - 1)\n",
    "\n",
    "# Significance level\n",
    "alpha = 0.05\n",
    "\n",
    "# Critical chi-square value\n",
    "critical_value = chi2.ppf(1 - alpha, degrees_of_freedom)\n",
    "\n",
    "# Print the results\n",
    "print(\"Chi-square statistic:\", chi2_statistic)\n",
    "print(\"Critical chi-square value:\", critical_value)\n",
    "\n",
    "# Compare the chi-square statistic with the critical value\n",
    "if chi2_statistic > critical_value:\n",
    "    print(\"Reject the null hypothesis. The coin is biased.\")\n",
    "else:\n",
    "    print(\"Fail to reject the null hypothesis. There is no evidence to suggest that the coin is biased.\")\n"
   ]
  },
  {
   "cell_type": "code",
   "execution_count": null,
   "id": "7b62f7c1-f2f7-4013-9a33-d9076b7c4e48",
   "metadata": {},
   "outputs": [],
   "source": []
  },
  {
   "cell_type": "code",
   "execution_count": null,
   "id": "b15085bc-818d-45ae-b0aa-61656b23a137",
   "metadata": {},
   "outputs": [],
   "source": []
  },
  {
   "cell_type": "code",
   "execution_count": null,
   "id": "9a5a56cf-ea4c-4d7d-82a2-796a02ea8114",
   "metadata": {},
   "outputs": [],
   "source": []
  }
 ],
 "metadata": {
  "kernelspec": {
   "display_name": "Python 3 (ipykernel)",
   "language": "python",
   "name": "python3"
  },
  "language_info": {
   "codemirror_mode": {
    "name": "ipython",
    "version": 3
   },
   "file_extension": ".py",
   "mimetype": "text/x-python",
   "name": "python",
   "nbconvert_exporter": "python",
   "pygments_lexer": "ipython3",
   "version": "3.10.8"
  }
 },
 "nbformat": 4,
 "nbformat_minor": 5
}
